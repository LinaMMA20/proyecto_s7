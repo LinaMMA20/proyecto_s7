{
 "cells": [
  {
   "cell_type": "code",
   "execution_count": 2,
   "id": "d436d3f2",
   "metadata": {},
   "outputs": [],
   "source": [
    "import pandas as pd\n",
    "import plotly.express as px\n",
    "import streamlit as st\n",
    "import plotly.graph_objects as go"
   ]
  },
  {
   "cell_type": "code",
   "execution_count": 3,
   "id": "1f391b58",
   "metadata": {},
   "outputs": [
    {
     "data": {
      "text/html": [
       "<div>\n",
       "<style scoped>\n",
       "    .dataframe tbody tr th:only-of-type {\n",
       "        vertical-align: middle;\n",
       "    }\n",
       "\n",
       "    .dataframe tbody tr th {\n",
       "        vertical-align: top;\n",
       "    }\n",
       "\n",
       "    .dataframe thead th {\n",
       "        text-align: right;\n",
       "    }\n",
       "</style>\n",
       "<table border=\"1\" class=\"dataframe\">\n",
       "  <thead>\n",
       "    <tr style=\"text-align: right;\">\n",
       "      <th></th>\n",
       "      <th>price</th>\n",
       "      <th>model_year</th>\n",
       "      <th>model</th>\n",
       "      <th>condition</th>\n",
       "      <th>cylinders</th>\n",
       "      <th>fuel</th>\n",
       "      <th>odometer</th>\n",
       "      <th>transmission</th>\n",
       "      <th>type</th>\n",
       "      <th>paint_color</th>\n",
       "      <th>is_4wd</th>\n",
       "      <th>date_posted</th>\n",
       "      <th>days_listed</th>\n",
       "    </tr>\n",
       "  </thead>\n",
       "  <tbody>\n",
       "    <tr>\n",
       "      <th>0</th>\n",
       "      <td>9400</td>\n",
       "      <td>2011.0</td>\n",
       "      <td>bmw x5</td>\n",
       "      <td>good</td>\n",
       "      <td>6.0</td>\n",
       "      <td>gas</td>\n",
       "      <td>145000.0</td>\n",
       "      <td>automatic</td>\n",
       "      <td>SUV</td>\n",
       "      <td>NaN</td>\n",
       "      <td>1.0</td>\n",
       "      <td>2018-06-23</td>\n",
       "      <td>19</td>\n",
       "    </tr>\n",
       "    <tr>\n",
       "      <th>1</th>\n",
       "      <td>25500</td>\n",
       "      <td>NaN</td>\n",
       "      <td>ford f-150</td>\n",
       "      <td>good</td>\n",
       "      <td>6.0</td>\n",
       "      <td>gas</td>\n",
       "      <td>88705.0</td>\n",
       "      <td>automatic</td>\n",
       "      <td>pickup</td>\n",
       "      <td>white</td>\n",
       "      <td>1.0</td>\n",
       "      <td>2018-10-19</td>\n",
       "      <td>50</td>\n",
       "    </tr>\n",
       "    <tr>\n",
       "      <th>2</th>\n",
       "      <td>5500</td>\n",
       "      <td>2013.0</td>\n",
       "      <td>hyundai sonata</td>\n",
       "      <td>like new</td>\n",
       "      <td>4.0</td>\n",
       "      <td>gas</td>\n",
       "      <td>110000.0</td>\n",
       "      <td>automatic</td>\n",
       "      <td>sedan</td>\n",
       "      <td>red</td>\n",
       "      <td>NaN</td>\n",
       "      <td>2019-02-07</td>\n",
       "      <td>79</td>\n",
       "    </tr>\n",
       "    <tr>\n",
       "      <th>3</th>\n",
       "      <td>1500</td>\n",
       "      <td>2003.0</td>\n",
       "      <td>ford f-150</td>\n",
       "      <td>fair</td>\n",
       "      <td>8.0</td>\n",
       "      <td>gas</td>\n",
       "      <td>NaN</td>\n",
       "      <td>automatic</td>\n",
       "      <td>pickup</td>\n",
       "      <td>NaN</td>\n",
       "      <td>NaN</td>\n",
       "      <td>2019-03-22</td>\n",
       "      <td>9</td>\n",
       "    </tr>\n",
       "    <tr>\n",
       "      <th>4</th>\n",
       "      <td>14900</td>\n",
       "      <td>2017.0</td>\n",
       "      <td>chrysler 200</td>\n",
       "      <td>excellent</td>\n",
       "      <td>4.0</td>\n",
       "      <td>gas</td>\n",
       "      <td>80903.0</td>\n",
       "      <td>automatic</td>\n",
       "      <td>sedan</td>\n",
       "      <td>black</td>\n",
       "      <td>NaN</td>\n",
       "      <td>2019-04-02</td>\n",
       "      <td>28</td>\n",
       "    </tr>\n",
       "  </tbody>\n",
       "</table>\n",
       "</div>"
      ],
      "text/plain": [
       "   price  model_year           model  condition  cylinders fuel  odometer  \\\n",
       "0   9400      2011.0          bmw x5       good        6.0  gas  145000.0   \n",
       "1  25500         NaN      ford f-150       good        6.0  gas   88705.0   \n",
       "2   5500      2013.0  hyundai sonata   like new        4.0  gas  110000.0   \n",
       "3   1500      2003.0      ford f-150       fair        8.0  gas       NaN   \n",
       "4  14900      2017.0    chrysler 200  excellent        4.0  gas   80903.0   \n",
       "\n",
       "  transmission    type paint_color  is_4wd date_posted  days_listed  \n",
       "0    automatic     SUV         NaN     1.0  2018-06-23           19  \n",
       "1    automatic  pickup       white     1.0  2018-10-19           50  \n",
       "2    automatic   sedan         red     NaN  2019-02-07           79  \n",
       "3    automatic  pickup         NaN     NaN  2019-03-22            9  \n",
       "4    automatic   sedan       black     NaN  2019-04-02           28  "
      ]
     },
     "execution_count": 3,
     "metadata": {},
     "output_type": "execute_result"
    }
   ],
   "source": [
    "df = pd.read_csv('..\\\\vehicules_env\\\\vehicles_us.csv')\n",
    "df.head()"
   ]
  },
  {
   "cell_type": "code",
   "execution_count": 4,
   "id": "33ab3eaa",
   "metadata": {},
   "outputs": [
    {
     "name": "stderr",
     "output_type": "stream",
     "text": [
      "2025-05-06 20:10:33.668 \n",
      "  \u001b[33m\u001b[1mWarning:\u001b[0m to view this Streamlit app on a browser, run it with the following\n",
      "  command:\n",
      "\n",
      "    streamlit run c:\\Users\\USER\\anaconda3\\Lib\\site-packages\\ipykernel_launcher.py [ARGUMENTS]\n"
     ]
    },
    {
     "data": {
      "text/plain": [
       "DeltaGenerator()"
      ]
     },
     "execution_count": 4,
     "metadata": {},
     "output_type": "execute_result"
    }
   ],
   "source": [
    "df['manufacturer'] = df['model'].str.split().str[0]\n",
    "ads_count = df['manufacturer'].value_counts().reset_index()\n",
    "ads_count.columns = ['manufacturer', 'ad_count']\n",
    "\n",
    "st.title('Data Viewer - Vehículos')\n",
    "show_small = st.checkbox('Mostrar solo fabricantes con menos de 1000 anuncios')\n",
    "\n",
    "if show_small:\n",
    "    filtered_data = ads_count[ads_count['ad_count'] < 1000]\n",
    "else:\n",
    "    filtered_data = ads_count\n",
    "\n",
    "st.table(df)\n"
   ]
  },
  {
   "cell_type": "code",
   "execution_count": 5,
   "id": "934119f1",
   "metadata": {},
   "outputs": [
    {
     "data": {
      "application/vnd.plotly.v1+json": {
       "config": {
        "plotlyServerURL": "https://plot.ly"
       },
       "data": [
        {
         "alignmentgroup": "True",
         "hovertemplate": "Tipo de vehículo=SUV<br>Fabricante=%{x}<br>Cantidad=%{y}<extra></extra>",
         "legendgroup": "SUV",
         "marker": {
          "color": "#636EFA",
          "opacity": 0.5,
          "pattern": {
           "shape": ""
          }
         },
         "name": "SUV",
         "offsetgroup": "SUV",
         "orientation": "v",
         "showlegend": true,
         "textposition": "auto",
         "type": "bar",
         "x": [
          "acura",
          "bmw",
          "buick",
          "cadillac",
          "chevrolet",
          "chrysler",
          "dodge",
          "ford",
          "gmc",
          "honda",
          "hyundai",
          "jeep",
          "kia",
          "nissan",
          "ram",
          "subaru",
          "toyota"
         ],
         "xaxis": "x",
         "y": [
          3,
          248,
          259,
          308,
          2285,
          1,
          7,
          2222,
          642,
          883,
          247,
          2780,
          273,
          580,
          3,
          456,
          1208
         ],
         "yaxis": "y"
        },
        {
         "alignmentgroup": "True",
         "hovertemplate": "Tipo de vehículo=other<br>Fabricante=%{x}<br>Cantidad=%{y}<extra></extra>",
         "legendgroup": "other",
         "marker": {
          "color": "#EF553B",
          "opacity": 0.5,
          "pattern": {
           "shape": ""
          }
         },
         "name": "other",
         "offsetgroup": "other",
         "orientation": "v",
         "showlegend": true,
         "textposition": "auto",
         "type": "bar",
         "x": [
          "acura",
          "chevrolet",
          "chrysler",
          "dodge",
          "ford",
          "gmc",
          "honda",
          "hyundai",
          "jeep",
          "kia",
          "nissan",
          "ram",
          "subaru",
          "toyota",
          "volkswagen"
         ],
         "xaxis": "x",
         "y": [
          2,
          52,
          3,
          5,
          33,
          1,
          15,
          12,
          71,
          2,
          22,
          8,
          2,
          26,
          2
         ],
         "yaxis": "y"
        },
        {
         "alignmentgroup": "True",
         "hovertemplate": "Tipo de vehículo=sedan<br>Fabricante=%{x}<br>Cantidad=%{y}<extra></extra>",
         "legendgroup": "sedan",
         "marker": {
          "color": "#00CC96",
          "opacity": 0.5,
          "pattern": {
           "shape": ""
          }
         },
         "name": "sedan",
         "offsetgroup": "sedan",
         "orientation": "v",
         "showlegend": true,
         "textposition": "auto",
         "type": "bar",
         "x": [
          "acura",
          "bmw",
          "buick",
          "cadillac",
          "chevrolet",
          "chrysler",
          "dodge",
          "ford",
          "honda",
          "hyundai",
          "jeep",
          "kia",
          "nissan",
          "ram",
          "subaru",
          "toyota",
          "volkswagen"
         ],
         "xaxis": "x",
         "y": [
          231,
          5,
          1,
          2,
          1700,
          541,
          402,
          2047,
          1624,
          848,
          4,
          54,
          1691,
          1,
          149,
          2045,
          809
         ],
         "yaxis": "y"
        },
        {
         "alignmentgroup": "True",
         "hovertemplate": "Tipo de vehículo=hatchback<br>Fabricante=%{x}<br>Cantidad=%{y}<extra></extra>",
         "legendgroup": "hatchback",
         "marker": {
          "color": "#AB63FA",
          "opacity": 0.5,
          "pattern": {
           "shape": ""
          }
         },
         "name": "hatchback",
         "offsetgroup": "hatchback",
         "orientation": "v",
         "showlegend": true,
         "textposition": "auto",
         "type": "bar",
         "x": [
          "bmw",
          "chevrolet",
          "chrysler",
          "dodge",
          "ford",
          "honda",
          "hyundai",
          "jeep",
          "kia",
          "nissan",
          "subaru",
          "toyota",
          "volkswagen"
         ],
         "xaxis": "x",
         "y": [
          1,
          34,
          1,
          1,
          246,
          43,
          29,
          3,
          95,
          94,
          146,
          350,
          4
         ],
         "yaxis": "y"
        },
        {
         "alignmentgroup": "True",
         "hovertemplate": "Tipo de vehículo=truck<br>Fabricante=%{x}<br>Cantidad=%{y}<extra></extra>",
         "legendgroup": "truck",
         "marker": {
          "color": "#FFA15A",
          "opacity": 0.5,
          "pattern": {
           "shape": ""
          }
         },
         "name": "truck",
         "offsetgroup": "truck",
         "orientation": "v",
         "showlegend": true,
         "textposition": "auto",
         "type": "bar",
         "x": [
          "bmw",
          "buick",
          "cadillac",
          "chevrolet",
          "dodge",
          "ford",
          "gmc",
          "honda",
          "hyundai",
          "jeep",
          "nissan",
          "ram",
          "toyota"
         ],
         "xaxis": "x",
         "y": [
          3,
          2,
          3,
          3277,
          135,
          4452,
          1188,
          7,
          1,
          34,
          174,
          2181,
          896
         ],
         "yaxis": "y"
        },
        {
         "alignmentgroup": "True",
         "hovertemplate": "Tipo de vehículo=van<br>Fabricante=%{x}<br>Cantidad=%{y}<extra></extra>",
         "legendgroup": "van",
         "marker": {
          "color": "#19D3F3",
          "opacity": 0.5,
          "pattern": {
           "shape": ""
          }
         },
         "name": "van",
         "offsetgroup": "van",
         "orientation": "v",
         "showlegend": true,
         "textposition": "auto",
         "type": "bar",
         "x": [
          "bmw",
          "buick",
          "chevrolet",
          "chrysler",
          "dodge",
          "ford",
          "gmc",
          "honda",
          "jeep",
          "mercedes-benz",
          "nissan",
          "ram",
          "toyota"
         ],
         "xaxis": "x",
         "y": [
          1,
          1,
          5,
          37,
          190,
          111,
          1,
          125,
          2,
          41,
          1,
          8,
          110
         ],
         "yaxis": "y"
        },
        {
         "alignmentgroup": "True",
         "hovertemplate": "Tipo de vehículo=wagon<br>Fabricante=%{x}<br>Cantidad=%{y}<extra></extra>",
         "legendgroup": "wagon",
         "marker": {
          "color": "#FF6692",
          "opacity": 0.5,
          "pattern": {
           "shape": ""
          }
         },
         "name": "wagon",
         "offsetgroup": "wagon",
         "orientation": "v",
         "showlegend": true,
         "textposition": "auto",
         "type": "bar",
         "x": [
          "bmw",
          "buick",
          "chevrolet",
          "chrysler",
          "dodge",
          "ford",
          "gmc",
          "honda",
          "hyundai",
          "jeep",
          "kia",
          "nissan",
          "ram",
          "subaru",
          "toyota",
          "volkswagen"
         ],
         "xaxis": "x",
         "y": [
          9,
          8,
          144,
          1,
          4,
          191,
          6,
          100,
          23,
          182,
          158,
          120,
          2,
          517,
          32,
          44
         ],
         "yaxis": "y"
        },
        {
         "alignmentgroup": "True",
         "hovertemplate": "Tipo de vehículo=pickup<br>Fabricante=%{x}<br>Cantidad=%{y}<extra></extra>",
         "legendgroup": "pickup",
         "marker": {
          "color": "#B6E880",
          "opacity": 0.5,
          "pattern": {
           "shape": ""
          }
         },
         "name": "pickup",
         "offsetgroup": "pickup",
         "orientation": "v",
         "showlegend": true,
         "textposition": "auto",
         "type": "bar",
         "x": [
          "cadillac",
          "chevrolet",
          "dodge",
          "ford",
          "gmc",
          "jeep",
          "kia",
          "nissan",
          "ram",
          "toyota"
         ],
         "xaxis": "x",
         "y": [
          9,
          1877,
          104,
          2356,
          534,
          1,
          1,
          458,
          1112,
          536
         ],
         "yaxis": "y"
        },
        {
         "alignmentgroup": "True",
         "hovertemplate": "Tipo de vehículo=convertible<br>Fabricante=%{x}<br>Cantidad=%{y}<extra></extra>",
         "legendgroup": "convertible",
         "marker": {
          "color": "#FF97FF",
          "opacity": 0.5,
          "pattern": {
           "shape": ""
          }
         },
         "name": "convertible",
         "offsetgroup": "convertible",
         "orientation": "v",
         "showlegend": true,
         "textposition": "auto",
         "type": "bar",
         "x": [
          "chevrolet",
          "chrysler",
          "ford",
          "honda",
          "jeep",
          "toyota"
         ],
         "xaxis": "x",
         "y": [
          236,
          12,
          153,
          1,
          42,
          2
         ],
         "yaxis": "y"
        },
        {
         "alignmentgroup": "True",
         "hovertemplate": "Tipo de vehículo=coupe<br>Fabricante=%{x}<br>Cantidad=%{y}<extra></extra>",
         "legendgroup": "coupe",
         "marker": {
          "color": "#FECB52",
          "opacity": 0.5,
          "pattern": {
           "shape": ""
          }
         },
         "name": "coupe",
         "offsetgroup": "coupe",
         "orientation": "v",
         "showlegend": true,
         "textposition": "auto",
         "type": "bar",
         "x": [
          "chevrolet",
          "chrysler",
          "dodge",
          "ford",
          "honda",
          "hyundai",
          "nissan",
          "subaru",
          "toyota",
          "volkswagen"
         ],
         "xaxis": "x",
         "y": [
          985,
          4,
          9,
          828,
          365,
          11,
          67,
          2,
          22,
          10
         ],
         "yaxis": "y"
        },
        {
         "alignmentgroup": "True",
         "hovertemplate": "Tipo de vehículo=mini-van<br>Fabricante=%{x}<br>Cantidad=%{y}<extra></extra>",
         "legendgroup": "mini-van",
         "marker": {
          "color": "#636EFA",
          "opacity": 0.5,
          "pattern": {
           "shape": ""
          }
         },
         "name": "mini-van",
         "offsetgroup": "mini-van",
         "orientation": "v",
         "showlegend": true,
         "textposition": "auto",
         "type": "bar",
         "x": [
          "chevrolet",
          "chrysler",
          "dodge",
          "ford",
          "honda",
          "hyundai",
          "kia",
          "toyota"
         ],
         "xaxis": "x",
         "y": [
          2,
          238,
          396,
          1,
          320,
          1,
          2,
          201
         ],
         "yaxis": "y"
        },
        {
         "alignmentgroup": "True",
         "hovertemplate": "Tipo de vehículo=offroad<br>Fabricante=%{x}<br>Cantidad=%{y}<extra></extra>",
         "legendgroup": "offroad",
         "marker": {
          "color": "#EF553B",
          "opacity": 0.5,
          "pattern": {
           "shape": ""
          }
         },
         "name": "offroad",
         "offsetgroup": "offroad",
         "orientation": "v",
         "showlegend": true,
         "textposition": "auto",
         "type": "bar",
         "x": [
          "chevrolet",
          "dodge",
          "ford",
          "gmc",
          "honda",
          "jeep",
          "nissan",
          "ram",
          "toyota"
         ],
         "xaxis": "x",
         "y": [
          14,
          2,
          9,
          6,
          2,
          162,
          1,
          1,
          17
         ],
         "yaxis": "y"
        },
        {
         "alignmentgroup": "True",
         "hovertemplate": "Tipo de vehículo=bus<br>Fabricante=%{x}<br>Cantidad=%{y}<extra></extra>",
         "legendgroup": "bus",
         "marker": {
          "color": "#00CC96",
          "opacity": 0.5,
          "pattern": {
           "shape": ""
          }
         },
         "name": "bus",
         "offsetgroup": "bus",
         "orientation": "v",
         "showlegend": true,
         "textposition": "auto",
         "type": "bar",
         "x": [
          "ford",
          "hyundai"
         ],
         "xaxis": "x",
         "y": [
          23,
          1
         ],
         "yaxis": "y"
        }
       ],
       "layout": {
        "barmode": "overlay",
        "legend": {
         "title": {
          "text": "Tipo de vehículo"
         },
         "tracegroupgap": 0
        },
        "template": {
         "data": {
          "candlestick": [
           {
            "decreasing": {
             "line": {
              "color": "#000033"
             }
            },
            "increasing": {
             "line": {
              "color": "#000032"
             }
            },
            "type": "candlestick"
           }
          ],
          "contour": [
           {
            "colorscale": [
             [
              0,
              "#000011"
             ],
             [
              0.1111111111111111,
              "#000012"
             ],
             [
              0.2222222222222222,
              "#000013"
             ],
             [
              0.3333333333333333,
              "#000014"
             ],
             [
              0.4444444444444444,
              "#000015"
             ],
             [
              0.5555555555555556,
              "#000016"
             ],
             [
              0.6666666666666666,
              "#000017"
             ],
             [
              0.7777777777777778,
              "#000018"
             ],
             [
              0.8888888888888888,
              "#000019"
             ],
             [
              1,
              "#000020"
             ]
            ],
            "type": "contour"
           }
          ],
          "contourcarpet": [
           {
            "colorscale": [
             [
              0,
              "#000011"
             ],
             [
              0.1111111111111111,
              "#000012"
             ],
             [
              0.2222222222222222,
              "#000013"
             ],
             [
              0.3333333333333333,
              "#000014"
             ],
             [
              0.4444444444444444,
              "#000015"
             ],
             [
              0.5555555555555556,
              "#000016"
             ],
             [
              0.6666666666666666,
              "#000017"
             ],
             [
              0.7777777777777778,
              "#000018"
             ],
             [
              0.8888888888888888,
              "#000019"
             ],
             [
              1,
              "#000020"
             ]
            ],
            "type": "contourcarpet"
           }
          ],
          "heatmap": [
           {
            "colorscale": [
             [
              0,
              "#000011"
             ],
             [
              0.1111111111111111,
              "#000012"
             ],
             [
              0.2222222222222222,
              "#000013"
             ],
             [
              0.3333333333333333,
              "#000014"
             ],
             [
              0.4444444444444444,
              "#000015"
             ],
             [
              0.5555555555555556,
              "#000016"
             ],
             [
              0.6666666666666666,
              "#000017"
             ],
             [
              0.7777777777777778,
              "#000018"
             ],
             [
              0.8888888888888888,
              "#000019"
             ],
             [
              1,
              "#000020"
             ]
            ],
            "type": "heatmap"
           }
          ],
          "histogram2d": [
           {
            "colorscale": [
             [
              0,
              "#000011"
             ],
             [
              0.1111111111111111,
              "#000012"
             ],
             [
              0.2222222222222222,
              "#000013"
             ],
             [
              0.3333333333333333,
              "#000014"
             ],
             [
              0.4444444444444444,
              "#000015"
             ],
             [
              0.5555555555555556,
              "#000016"
             ],
             [
              0.6666666666666666,
              "#000017"
             ],
             [
              0.7777777777777778,
              "#000018"
             ],
             [
              0.8888888888888888,
              "#000019"
             ],
             [
              1,
              "#000020"
             ]
            ],
            "type": "histogram2d"
           }
          ],
          "icicle": [
           {
            "textfont": {
             "color": "white"
            },
            "type": "icicle"
           }
          ],
          "sankey": [
           {
            "textfont": {
             "color": "#000036"
            },
            "type": "sankey"
           }
          ],
          "scatter": [
           {
            "marker": {
             "line": {
              "width": 0
             }
            },
            "type": "scatter"
           }
          ],
          "table": [
           {
            "cells": {
             "fill": {
              "color": "#000038"
             },
             "font": {
              "color": "#000037"
             },
             "line": {
              "color": "#000039"
             }
            },
            "header": {
             "fill": {
              "color": "#000040"
             },
             "font": {
              "color": "#000036"
             },
             "line": {
              "color": "#000039"
             }
            },
            "type": "table"
           }
          ],
          "waterfall": [
           {
            "connector": {
             "line": {
              "color": "#000036",
              "width": 2
             }
            },
            "decreasing": {
             "marker": {
              "color": "#000033"
             }
            },
            "increasing": {
             "marker": {
              "color": "#000032"
             }
            },
            "totals": {
             "marker": {
              "color": "#000034"
             }
            },
            "type": "waterfall"
           }
          ]
         },
         "layout": {
          "coloraxis": {
           "colorscale": [
            [
             0,
             "#000011"
            ],
            [
             0.1111111111111111,
             "#000012"
            ],
            [
             0.2222222222222222,
             "#000013"
            ],
            [
             0.3333333333333333,
             "#000014"
            ],
            [
             0.4444444444444444,
             "#000015"
            ],
            [
             0.5555555555555556,
             "#000016"
            ],
            [
             0.6666666666666666,
             "#000017"
            ],
            [
             0.7777777777777778,
             "#000018"
            ],
            [
             0.8888888888888888,
             "#000019"
            ],
            [
             1,
             "#000020"
            ]
           ]
          },
          "colorscale": {
           "diverging": [
            [
             0,
             "#000021"
            ],
            [
             0.1,
             "#000022"
            ],
            [
             0.2,
             "#000023"
            ],
            [
             0.3,
             "#000024"
            ],
            [
             0.4,
             "#000025"
            ],
            [
             0.5,
             "#000026"
            ],
            [
             0.6,
             "#000027"
            ],
            [
             0.7,
             "#000028"
            ],
            [
             0.8,
             "#000029"
            ],
            [
             0.9,
             "#000030"
            ],
            [
             1,
             "#000031"
            ]
           ],
           "sequential": [
            [
             0,
             "#000011"
            ],
            [
             0.1111111111111111,
             "#000012"
            ],
            [
             0.2222222222222222,
             "#000013"
            ],
            [
             0.3333333333333333,
             "#000014"
            ],
            [
             0.4444444444444444,
             "#000015"
            ],
            [
             0.5555555555555556,
             "#000016"
            ],
            [
             0.6666666666666666,
             "#000017"
            ],
            [
             0.7777777777777778,
             "#000018"
            ],
            [
             0.8888888888888888,
             "#000019"
            ],
            [
             1,
             "#000020"
            ]
           ],
           "sequentialminus": [
            [
             0,
             "#000011"
            ],
            [
             0.1111111111111111,
             "#000012"
            ],
            [
             0.2222222222222222,
             "#000013"
            ],
            [
             0.3333333333333333,
             "#000014"
            ],
            [
             0.4444444444444444,
             "#000015"
            ],
            [
             0.5555555555555556,
             "#000016"
            ],
            [
             0.6666666666666666,
             "#000017"
            ],
            [
             0.7777777777777778,
             "#000018"
            ],
            [
             0.8888888888888888,
             "#000019"
            ],
            [
             1,
             "#000020"
            ]
           ]
          },
          "colorway": [
           "#000001",
           "#000002",
           "#000003",
           "#000004",
           "#000005",
           "#000006",
           "#000007",
           "#000008",
           "#000009",
           "#000010"
          ]
         }
        },
        "title": {
         "text": "Tipos de vehículos por fabricante"
        },
        "xaxis": {
         "anchor": "y",
         "domain": [
          0,
          1
         ],
         "title": {
          "text": "Fabricante"
         }
        },
        "yaxis": {
         "anchor": "x",
         "domain": [
          0,
          1
         ],
         "title": {
          "text": "Cantidad"
         }
        }
       }
      }
     },
     "metadata": {},
     "output_type": "display_data"
    }
   ],
   "source": [
    "grouped = df.groupby(['manufacturer', 'type']).size().reset_index(name='count')\n",
    "\n",
    "st.title('Tipos de vehículos por fabricante')\n",
    "\n",
    "fig = px.bar(\n",
    "    grouped,\n",
    "    x='manufacturer',\n",
    "    y='count',\n",
    "    color='type',\n",
    "    title='Tipos de vehículos por fabricante',\n",
    "    barmode='overlay',\n",
    "    labels={'count': 'Cantidad', 'manufacturer': 'Fabricante', 'type': 'Tipo de vehículo'},\n",
    "    color_discrete_sequence=px.colors.qualitative.Plotly,\n",
    "    )\n",
    "fig.show()"
   ]
  },
  {
   "cell_type": "code",
   "execution_count": 7,
   "id": "e7c76594",
   "metadata": {},
   "outputs": [
    {
     "data": {
      "text/plain": [
       "DeltaGenerator()"
      ]
     },
     "execution_count": 7,
     "metadata": {},
     "output_type": "execute_result"
    }
   ],
   "source": [
    "data_clean = df.dropna(subset=['price', 'manufacturer'])\n",
    "data_clean = data_clean[data_clean['price'] < 100000] \n",
    "\n",
    "st.title('Comparación de precios por fabricante')\n",
    "\n",
    "manufacturers = data_clean['manufacturer'].unique()\n",
    "selected = st.multiselect(\n",
    "    'Selecciona 2 fabricantes para comparar:',\n",
    "    options=manufacturers,\n",
    "    default=manufacturers[:2],\n",
    ")\n",
    "\n",
    "if len(selected) != 2:\n",
    "    st.warning('Por favor selecciona exactamente 2 fabricantes.')\n",
    "else:\n",
    "    filtered_data = data_clean[data_clean['manufacturer'].isin(selected)]\n",
    "\n",
    "fig = px.scatter(\n",
    "    filtered_data,\n",
    "    x='price',\n",
    "    color='manufacturer',\n",
    "    title='Comparación de precios entre fabricantes',\n",
    "    labels={'price': 'Precio', 'manufacturer': 'Fabricante'},\n",
    "    color_discrete_sequence=px.colors.qualitative.Set2\n",
    ")\n",
    "\n",
    "st.plotly_chart(fig)"
   ]
  },
  {
   "cell_type": "code",
   "execution_count": null,
   "id": "ac159aab",
   "metadata": {},
   "outputs": [],
   "source": []
  }
 ],
 "metadata": {
  "kernelspec": {
   "display_name": "base",
   "language": "python",
   "name": "python3"
  },
  "language_info": {
   "codemirror_mode": {
    "name": "ipython",
    "version": 3
   },
   "file_extension": ".py",
   "mimetype": "text/x-python",
   "name": "python",
   "nbconvert_exporter": "python",
   "pygments_lexer": "ipython3",
   "version": "3.12.7"
  }
 },
 "nbformat": 4,
 "nbformat_minor": 5
}
